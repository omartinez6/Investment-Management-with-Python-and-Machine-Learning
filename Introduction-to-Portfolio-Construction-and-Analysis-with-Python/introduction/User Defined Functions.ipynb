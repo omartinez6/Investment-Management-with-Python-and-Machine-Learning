{
 "cells": [
  {
   "cell_type": "code",
   "execution_count": 1,
   "id": "107f3dcd-c483-4743-9ba5-6461aa7df363",
   "metadata": {},
   "outputs": [
    {
     "name": "stdout",
     "output_type": "stream",
     "text": [
      "Hi Sam\n"
     ]
    }
   ],
   "source": [
    "say = 'Hi'\n",
    "person = 'Sam'\n",
    "print(f'{say} {person}')"
   ]
  },
  {
   "cell_type": "code",
   "execution_count": 6,
   "id": "fccf8eba-f71d-4fe6-8811-c9a99bb50727",
   "metadata": {
    "tags": []
   },
   "outputs": [],
   "source": [
    "def greet(name, say='Hello'):\n",
    "    '''\n",
    "    Function that returns a personalized greeting.\n",
    "\n",
    "    Parameters\n",
    "    ----------\n",
    "    name: str\n",
    "        The name of the person to greet.\n",
    "    say: str, optional\n",
    "        How the greeting will start, by default is 'Hello'.\n",
    "\n",
    "    Returns\n",
    "    -------\n",
    "    greeting: str\n",
    "        The personalized greeting in the form of say + name.\n",
    "\n",
    "    Raises\n",
    "    ------\n",
    "    None\n",
    "\n",
    "    Examples\n",
    "    --------\n",
    "    >>> greet('John')\n",
    "    'Hello John'\n",
    "    >>> greet('Emily', say='Hi')\n",
    "    'Hi Emily'\n",
    "    '''\n",
    "    greeting = f'{say} {name}'\n",
    "    return greeting"
   ]
  },
  {
   "cell_type": "code",
   "execution_count": 7,
   "id": "96888968-496d-4f77-a691-d13a4521a8db",
   "metadata": {
    "tags": []
   },
   "outputs": [
    {
     "data": {
      "text/plain": [
       "'Hello Christian'"
      ]
     },
     "execution_count": 7,
     "metadata": {},
     "output_type": "execute_result"
    }
   ],
   "source": [
    "greet('Christian')"
   ]
  },
  {
   "cell_type": "code",
   "execution_count": 8,
   "id": "3250d022-b965-433f-8f82-1dd0d9fd4e91",
   "metadata": {
    "tags": []
   },
   "outputs": [
    {
     "data": {
      "text/plain": [
       "'Hi Julio'"
      ]
     },
     "execution_count": 8,
     "metadata": {},
     "output_type": "execute_result"
    }
   ],
   "source": [
    "greet('Julio','Hi')"
   ]
  }
 ],
 "metadata": {
  "kernelspec": {
   "display_name": "Python 3 (ipykernel)",
   "language": "python",
   "name": "python3"
  },
  "language_info": {
   "codemirror_mode": {
    "name": "ipython",
    "version": 3
   },
   "file_extension": ".py",
   "mimetype": "text/x-python",
   "name": "python",
   "nbconvert_exporter": "python",
   "pygments_lexer": "ipython3",
   "version": "3.11.3"
  }
 },
 "nbformat": 4,
 "nbformat_minor": 5
}
