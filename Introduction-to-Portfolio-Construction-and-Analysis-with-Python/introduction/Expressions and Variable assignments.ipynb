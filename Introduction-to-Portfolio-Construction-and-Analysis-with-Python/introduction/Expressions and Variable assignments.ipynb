{
 "cells": [
  {
   "cell_type": "code",
   "execution_count": 1,
   "id": "198e4279-41b3-445c-947c-783aa53b73de",
   "metadata": {
    "editable": true,
    "slideshow": {
     "slide_type": ""
    },
    "tags": []
   },
   "outputs": [
    {
     "data": {
      "text/plain": [
       "104"
      ]
     },
     "execution_count": 1,
     "metadata": {},
     "output_type": "execute_result"
    }
   ],
   "source": [
    "3 + 2\n",
    "5 + 5\n",
    "99 + 5"
   ]
  },
  {
   "cell_type": "code",
   "execution_count": 3,
   "id": "8ec67c2c-49b6-43cb-9214-8a84e2290cf8",
   "metadata": {},
   "outputs": [
    {
     "data": {
      "text/plain": [
       "20.0"
      ]
     },
     "execution_count": 3,
     "metadata": {},
     "output_type": "execute_result"
    }
   ],
   "source": [
    "(12 - 10) / 10 * 100"
   ]
  },
  {
   "cell_type": "code",
   "execution_count": 4,
   "id": "e4f5875e-55cb-49cc-b495-33447eddc2cb",
   "metadata": {},
   "outputs": [],
   "source": [
    "purchase_price = 10\n",
    "sales_price = 12\n",
    "profit = sales_price - purchase_price\n",
    "pct_return = profit / purchase_price"
   ]
  },
  {
   "cell_type": "code",
   "execution_count": 6,
   "id": "97c92f3c-57cd-4acd-9a4a-5c5df8c8ae6e",
   "metadata": {},
   "outputs": [
    {
     "data": {
      "text/plain": [
       "20.0"
      ]
     },
     "execution_count": 6,
     "metadata": {},
     "output_type": "execute_result"
    }
   ],
   "source": [
    "pct_return"
   ]
  },
  {
   "cell_type": "code",
   "execution_count": 9,
   "id": "4809bb64-6bcc-4e8a-abd5-1a51bfe27ff4",
   "metadata": {
    "tags": []
   },
   "outputs": [
    {
     "name": "stdout",
     "output_type": "stream",
     "text": [
      "The profit form the trade was 2 and the return was 20.0 percent.\n"
     ]
    }
   ],
   "source": [
    "print('The profit form the trade was', profit, 'and the return was', pct_return * 100, 'percent.')"
   ]
  },
  {
   "cell_type": "code",
   "execution_count": 11,
   "id": "aa1e999a-eb1c-4a7b-8fa8-18420ae0dd52",
   "metadata": {
    "tags": []
   },
   "outputs": [
    {
     "data": {
      "text/plain": [
       "32"
      ]
     },
     "execution_count": 11,
     "metadata": {},
     "output_type": "execute_result"
    }
   ],
   "source": [
    "2 ** 5"
   ]
  },
  {
   "cell_type": "code",
   "execution_count": 15,
   "id": "72bea654-9b8b-4d44-a646-1bfcdfd14a8b",
   "metadata": {
    "tags": []
   },
   "outputs": [
    {
     "data": {
      "text/plain": [
       "3"
      ]
     },
     "execution_count": 15,
     "metadata": {},
     "output_type": "execute_result"
    }
   ],
   "source": [
    "24 % 7"
   ]
  },
  {
   "cell_type": "code",
   "execution_count": 13,
   "id": "ddb33184-6ef5-49aa-883d-f2029d7ff3af",
   "metadata": {
    "tags": []
   },
   "outputs": [
    {
     "data": {
      "text/plain": [
       "3"
      ]
     },
     "execution_count": 13,
     "metadata": {},
     "output_type": "execute_result"
    }
   ],
   "source": [
    "24 // 7"
   ]
  },
  {
   "cell_type": "code",
   "execution_count": 14,
   "id": "c08fb454-a058-40e2-9c02-9c7d3c467aa3",
   "metadata": {
    "tags": []
   },
   "outputs": [
    {
     "data": {
      "text/plain": [
       "3.4285714285714284"
      ]
     },
     "execution_count": 14,
     "metadata": {},
     "output_type": "execute_result"
    }
   ],
   "source": [
    "24 / 7"
   ]
  },
  {
   "cell_type": "code",
   "execution_count": 23,
   "id": "c9d26e3b-6b36-4c76-b22c-46e11986f619",
   "metadata": {
    "tags": []
   },
   "outputs": [],
   "source": [
    "r = 0.01"
   ]
  },
  {
   "cell_type": "code",
   "execution_count": 24,
   "id": "3c9f8f33-94ac-46bd-aa1b-d3e275990b62",
   "metadata": {
    "tags": []
   },
   "outputs": [
    {
     "data": {
      "text/plain": [
       "0.12682503013196977"
      ]
     },
     "execution_count": 24,
     "metadata": {},
     "output_type": "execute_result"
    }
   ],
   "source": [
    "(1 + r) ** 12 - 1"
   ]
  },
  {
   "cell_type": "code",
   "execution_count": null,
   "id": "5bb621b5-fd6d-459d-b0d9-0d63330d00ef",
   "metadata": {},
   "outputs": [],
   "source": []
  }
 ],
 "metadata": {
  "kernelspec": {
   "display_name": "Python 3 (ipykernel)",
   "language": "python",
   "name": "python3"
  },
  "language_info": {
   "codemirror_mode": {
    "name": "ipython",
    "version": 3
   },
   "file_extension": ".py",
   "mimetype": "text/x-python",
   "name": "python",
   "nbconvert_exporter": "python",
   "pygments_lexer": "ipython3",
   "version": "3.11.3"
  }
 },
 "nbformat": 4,
 "nbformat_minor": 5
}
