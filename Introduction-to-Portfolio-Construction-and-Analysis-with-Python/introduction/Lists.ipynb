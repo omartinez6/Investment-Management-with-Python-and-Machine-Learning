{
 "cells": [
  {
   "cell_type": "code",
   "execution_count": 1,
   "id": "225030f5-2530-4470-8571-e452795151f0",
   "metadata": {
    "tags": []
   },
   "outputs": [],
   "source": [
    "a = [2, 4, 6, 8, 10]"
   ]
  },
  {
   "cell_type": "code",
   "execution_count": 2,
   "id": "57b78fd3-6204-4f3f-b143-e536ed0181ac",
   "metadata": {
    "tags": []
   },
   "outputs": [],
   "source": [
    "prices = [10, 12, 8.5, 9, 14.25]"
   ]
  },
  {
   "cell_type": "code",
   "execution_count": 5,
   "id": "d3ff26fb-2b14-487a-90ef-252fe9b79f11",
   "metadata": {
    "tags": []
   },
   "outputs": [
    {
     "data": {
      "text/plain": [
       "0.2"
      ]
     },
     "execution_count": 5,
     "metadata": {},
     "output_type": "execute_result"
    }
   ],
   "source": [
    "(prices[1] - prices[0]) / prices[0]"
   ]
  },
  {
   "cell_type": "code",
   "execution_count": 6,
   "id": "618d3548-81b5-4bb8-bdc4-1e3bdc5644bb",
   "metadata": {
    "tags": []
   },
   "outputs": [
    {
     "data": {
      "text/plain": [
       "14.25"
      ]
     },
     "execution_count": 6,
     "metadata": {},
     "output_type": "execute_result"
    }
   ],
   "source": [
    "prices[-1]"
   ]
  },
  {
   "cell_type": "code",
   "execution_count": 7,
   "id": "29601f25-519e-451e-8ddc-a768e7a35f67",
   "metadata": {
    "tags": []
   },
   "outputs": [
    {
     "data": {
      "text/plain": [
       "[12, 8.5]"
      ]
     },
     "execution_count": 7,
     "metadata": {},
     "output_type": "execute_result"
    }
   ],
   "source": [
    "prices[1:3]"
   ]
  },
  {
   "cell_type": "code",
   "execution_count": 9,
   "id": "0ef9d9e9-82f1-4a48-994a-bc2644f1e71f",
   "metadata": {
    "tags": []
   },
   "outputs": [
    {
     "data": {
      "text/plain": [
       "[12, 8.5, 9]"
      ]
     },
     "execution_count": 9,
     "metadata": {},
     "output_type": "execute_result"
    }
   ],
   "source": [
    "prices[1:4]"
   ]
  },
  {
   "cell_type": "code",
   "execution_count": 10,
   "id": "7bbe2bc4-9258-4bea-a3c2-9adbeebaf558",
   "metadata": {
    "tags": []
   },
   "outputs": [
    {
     "data": {
      "text/plain": [
       "[12, 8.5, 9]"
      ]
     },
     "execution_count": 10,
     "metadata": {},
     "output_type": "execute_result"
    }
   ],
   "source": [
    "prices[1:-1]"
   ]
  },
  {
   "cell_type": "code",
   "execution_count": 11,
   "id": "99a83a4e-6cb0-4dc1-8ba8-f6e6fb9174c3",
   "metadata": {
    "tags": []
   },
   "outputs": [
    {
     "data": {
      "text/plain": [
       "[10, 12, 8.5, 9]"
      ]
     },
     "execution_count": 11,
     "metadata": {},
     "output_type": "execute_result"
    }
   ],
   "source": [
    "prices[0:-1]"
   ]
  },
  {
   "cell_type": "code",
   "execution_count": 12,
   "id": "3212c321-43d8-4f23-9d76-ff562974a271",
   "metadata": {
    "tags": []
   },
   "outputs": [
    {
     "data": {
      "text/plain": [
       "[10, 12, 8.5, 9]"
      ]
     },
     "execution_count": 12,
     "metadata": {},
     "output_type": "execute_result"
    }
   ],
   "source": [
    "prices[:-1]"
   ]
  },
  {
   "cell_type": "code",
   "execution_count": 13,
   "id": "ab81d9ff-4306-4b50-ba4b-8cd18a3573ca",
   "metadata": {
    "tags": []
   },
   "outputs": [
    {
     "data": {
      "text/plain": [
       "[12, 8.5, 9, 14.25]"
      ]
     },
     "execution_count": 13,
     "metadata": {},
     "output_type": "execute_result"
    }
   ],
   "source": [
    "prices[1:]"
   ]
  },
  {
   "cell_type": "code",
   "execution_count": 15,
   "id": "90fb4caf-8135-4fe1-97c3-2629f227b7f0",
   "metadata": {
    "tags": []
   },
   "outputs": [
    {
     "data": {
      "text/plain": [
       "9"
      ]
     },
     "execution_count": 15,
     "metadata": {},
     "output_type": "execute_result"
    }
   ],
   "source": [
    "range(5,10)[-1]"
   ]
  },
  {
   "cell_type": "code",
   "execution_count": 16,
   "id": "1cbcc15f-96cd-483f-9e18-6eae07c1ee3e",
   "metadata": {
    "tags": []
   },
   "outputs": [
    {
     "data": {
      "text/plain": [
       "5"
      ]
     },
     "execution_count": 16,
     "metadata": {},
     "output_type": "execute_result"
    }
   ],
   "source": [
    "range(5,10)[0]"
   ]
  },
  {
   "cell_type": "code",
   "execution_count": 17,
   "id": "a6087ddc-bfb0-44f2-8ae8-1ec23f032ac4",
   "metadata": {
    "tags": []
   },
   "outputs": [],
   "source": [
    "l = range(1,101)"
   ]
  },
  {
   "cell_type": "code",
   "execution_count": 20,
   "id": "683bc620-7c3d-43cb-973a-19d134f7ed58",
   "metadata": {
    "tags": []
   },
   "outputs": [
    {
     "data": {
      "text/plain": [
       "100"
      ]
     },
     "execution_count": 20,
     "metadata": {},
     "output_type": "execute_result"
    }
   ],
   "source": [
    "len(l)"
   ]
  },
  {
   "cell_type": "code",
   "execution_count": 21,
   "id": "0591e9a8-444e-454d-9cf0-f597cda799ef",
   "metadata": {
    "tags": []
   },
   "outputs": [
    {
     "data": {
      "text/plain": [
       "1"
      ]
     },
     "execution_count": 21,
     "metadata": {},
     "output_type": "execute_result"
    }
   ],
   "source": [
    "l[0]"
   ]
  },
  {
   "cell_type": "code",
   "execution_count": 22,
   "id": "a00ab368-a9f3-453b-8193-9c9440b3e30f",
   "metadata": {
    "tags": []
   },
   "outputs": [
    {
     "data": {
      "text/plain": [
       "100"
      ]
     },
     "execution_count": 22,
     "metadata": {},
     "output_type": "execute_result"
    }
   ],
   "source": [
    "l[-1]"
   ]
  },
  {
   "cell_type": "code",
   "execution_count": 25,
   "id": "f4d9687f-5ebb-4ddd-8c3f-292170686223",
   "metadata": {
    "tags": []
   },
   "outputs": [
    {
     "data": {
      "text/plain": [
       "range(3, 8)"
      ]
     },
     "execution_count": 25,
     "metadata": {},
     "output_type": "execute_result"
    }
   ],
   "source": [
    "l[2:7]"
   ]
  },
  {
   "cell_type": "code",
   "execution_count": 26,
   "id": "669956c6-aefa-4b53-bdf5-ea560f219eda",
   "metadata": {
    "tags": []
   },
   "outputs": [],
   "source": [
    "l = list(range(1,101))"
   ]
  },
  {
   "cell_type": "code",
   "execution_count": 27,
   "id": "b9846e22-2b62-4b3a-a2ae-77987e646e0e",
   "metadata": {
    "tags": []
   },
   "outputs": [
    {
     "data": {
      "text/plain": [
       "[3, 4, 5, 6, 7]"
      ]
     },
     "execution_count": 27,
     "metadata": {},
     "output_type": "execute_result"
    }
   ],
   "source": [
    "l[2:7]"
   ]
  },
  {
   "cell_type": "code",
   "execution_count": 28,
   "id": "3fd3aab6-d0c6-4981-8940-7fb9ab39ae7c",
   "metadata": {
    "tags": []
   },
   "outputs": [],
   "source": [
    "l = range(1,101)"
   ]
  },
  {
   "cell_type": "code",
   "execution_count": 30,
   "id": "89c7c28a-cd1e-4e61-a1de-b20dff84c9ff",
   "metadata": {
    "tags": []
   },
   "outputs": [
    {
     "data": {
      "text/plain": [
       "[3, 4, 5, 6, 7]"
      ]
     },
     "execution_count": 30,
     "metadata": {},
     "output_type": "execute_result"
    }
   ],
   "source": [
    "list(l[2:7])"
   ]
  },
  {
   "cell_type": "code",
   "execution_count": 31,
   "id": "869b4ec9-8601-4d5a-96c2-4a2f3fa82ae8",
   "metadata": {
    "tags": []
   },
   "outputs": [],
   "source": [
    "l100 = list(range(1,101))"
   ]
  },
  {
   "cell_type": "code",
   "execution_count": 33,
   "id": "a009af7f-1d4e-4406-9d7e-767bdf2246e6",
   "metadata": {
    "tags": []
   },
   "outputs": [
    {
     "data": {
      "text/plain": [
       "[2, 4, 6, 8, 10]"
      ]
     },
     "execution_count": 33,
     "metadata": {},
     "output_type": "execute_result"
    }
   ],
   "source": [
    "l100[1:11:2]"
   ]
  },
  {
   "cell_type": "code",
   "execution_count": 35,
   "id": "a88c1d30-9cce-4077-9af7-9a2a3cf5eaa3",
   "metadata": {
    "tags": []
   },
   "outputs": [],
   "source": [
    "odds = list(range(1,100,2))"
   ]
  },
  {
   "cell_type": "code",
   "execution_count": 37,
   "id": "7f145884-94c5-4d32-8b42-6e6a6cd968af",
   "metadata": {
    "tags": []
   },
   "outputs": [
    {
     "data": {
      "text/plain": [
       "[1, 3, 5, 7, 9]"
      ]
     },
     "execution_count": 37,
     "metadata": {},
     "output_type": "execute_result"
    }
   ],
   "source": [
    "odds[:5]"
   ]
  },
  {
   "cell_type": "code",
   "execution_count": 38,
   "id": "baf49d91-3cac-414b-b63c-1910bd607c1a",
   "metadata": {
    "tags": []
   },
   "outputs": [],
   "source": [
    "evens = list(range(2,101,2))"
   ]
  },
  {
   "cell_type": "code",
   "execution_count": 40,
   "id": "63978fed-1a42-4553-a177-925662458952",
   "metadata": {
    "tags": []
   },
   "outputs": [
    {
     "data": {
      "text/plain": [
       "[2, 4, 6, 8, 10]"
      ]
     },
     "execution_count": 40,
     "metadata": {},
     "output_type": "execute_result"
    }
   ],
   "source": [
    "evens[:5]"
   ]
  },
  {
   "cell_type": "code",
   "execution_count": 41,
   "id": "a8d636b1-faa2-42ae-9938-a225b7c90f47",
   "metadata": {
    "tags": []
   },
   "outputs": [],
   "source": [
    "import statistics as s"
   ]
  },
  {
   "cell_type": "code",
   "execution_count": 42,
   "id": "48ffb456-009b-44b1-98e0-84865d9ea7f8",
   "metadata": {
    "tags": []
   },
   "outputs": [
    {
     "data": {
      "text/plain": [
       "51"
      ]
     },
     "execution_count": 42,
     "metadata": {},
     "output_type": "execute_result"
    }
   ],
   "source": [
    "s.mean(evens)"
   ]
  },
  {
   "cell_type": "code",
   "execution_count": 43,
   "id": "a3edb7fb-38dd-4328-a944-7a0f44504b0b",
   "metadata": {
    "tags": []
   },
   "outputs": [
    {
     "data": {
      "text/plain": [
       "51.0"
      ]
     },
     "execution_count": 43,
     "metadata": {},
     "output_type": "execute_result"
    }
   ],
   "source": [
    "sum(evens) / len(evens)"
   ]
  },
  {
   "cell_type": "code",
   "execution_count": 44,
   "id": "a6d9a879-f407-44ba-9176-a66370f799b1",
   "metadata": {
    "tags": []
   },
   "outputs": [],
   "source": [
    "from statistics import mean"
   ]
  },
  {
   "cell_type": "code",
   "execution_count": 45,
   "id": "065a727b-ee1e-4298-8b2c-3f3b66e6d986",
   "metadata": {
    "tags": []
   },
   "outputs": [
    {
     "data": {
      "text/plain": [
       "51"
      ]
     },
     "execution_count": 45,
     "metadata": {},
     "output_type": "execute_result"
    }
   ],
   "source": [
    "mean(evens)"
   ]
  },
  {
   "cell_type": "code",
   "execution_count": 46,
   "id": "9321a478-65ea-4905-8a9f-050e8ebf7728",
   "metadata": {
    "tags": []
   },
   "outputs": [],
   "source": [
    "l1 = [1, 2, 3, 4, 5]\n",
    "l2 = ['apple', 'banana', 'orange']\n",
    "l3 = [3.4, 10, 'apple', [], [[2, 3], ['apple', 4]]]"
   ]
  },
  {
   "cell_type": "code",
   "execution_count": 47,
   "id": "ce7353b1-2851-4b9d-8b7b-f0ea0c4ac72e",
   "metadata": {
    "tags": []
   },
   "outputs": [
    {
     "data": {
      "text/plain": [
       "[1, 2, 3, 4, 5, 'apple', 'banana', 'orange']"
      ]
     },
     "execution_count": 47,
     "metadata": {},
     "output_type": "execute_result"
    }
   ],
   "source": [
    "l1 + l2"
   ]
  },
  {
   "cell_type": "code",
   "execution_count": 48,
   "id": "6c377c38-9499-4d43-aced-900a94676db7",
   "metadata": {
    "tags": []
   },
   "outputs": [],
   "source": [
    "today_profits = [3, 4, -1.5]\n",
    "yesterday_profits = [-1, -2, -0.95]"
   ]
  },
  {
   "cell_type": "code",
   "execution_count": 49,
   "id": "2ae91a67-9309-40b3-bef7-763bceeb68a7",
   "metadata": {
    "tags": []
   },
   "outputs": [
    {
     "data": {
      "text/plain": [
       "[3, 4, -1.5, -1, -2, -0.95]"
      ]
     },
     "execution_count": 49,
     "metadata": {},
     "output_type": "execute_result"
    }
   ],
   "source": [
    "today_profits + yesterday_profits"
   ]
  },
  {
   "cell_type": "code",
   "execution_count": 50,
   "id": "4737a37b-9911-4df2-9023-60cbcc7ad95d",
   "metadata": {
    "tags": []
   },
   "outputs": [
    {
     "data": {
      "text/plain": [
       "[3, 4, -1.5, 3, 4, -1.5]"
      ]
     },
     "execution_count": 50,
     "metadata": {},
     "output_type": "execute_result"
    }
   ],
   "source": [
    "today_profits * 2"
   ]
  },
  {
   "cell_type": "code",
   "execution_count": 51,
   "id": "c0e45823-3fc4-4207-93bd-f44096f19d92",
   "metadata": {
    "tags": []
   },
   "outputs": [
    {
     "data": {
      "text/plain": [
       "['apple',\n",
       " 'banana',\n",
       " 'orange',\n",
       " 'apple',\n",
       " 'banana',\n",
       " 'orange',\n",
       " 'apple',\n",
       " 'banana',\n",
       " 'orange']"
      ]
     },
     "execution_count": 51,
     "metadata": {},
     "output_type": "execute_result"
    }
   ],
   "source": [
    "l2 * 3"
   ]
  },
  {
   "cell_type": "code",
   "execution_count": null,
   "id": "b9ab1d0a-a434-4b09-957e-7b7208abc498",
   "metadata": {},
   "outputs": [],
   "source": []
  }
 ],
 "metadata": {
  "kernelspec": {
   "display_name": "Python 3 (ipykernel)",
   "language": "python",
   "name": "python3"
  },
  "language_info": {
   "codemirror_mode": {
    "name": "ipython",
    "version": 3
   },
   "file_extension": ".py",
   "mimetype": "text/x-python",
   "name": "python",
   "nbconvert_exporter": "python",
   "pygments_lexer": "ipython3",
   "version": "3.11.3"
  }
 },
 "nbformat": 4,
 "nbformat_minor": 5
}
