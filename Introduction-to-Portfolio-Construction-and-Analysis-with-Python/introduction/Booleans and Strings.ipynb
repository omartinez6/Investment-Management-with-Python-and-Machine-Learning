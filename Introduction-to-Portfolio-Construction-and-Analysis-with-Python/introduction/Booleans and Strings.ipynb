{
 "cells": [
  {
   "cell_type": "code",
   "execution_count": 1,
   "id": "1b161744-172a-4061-a166-edcb38de0b34",
   "metadata": {
    "tags": []
   },
   "outputs": [
    {
     "data": {
      "text/plain": [
       "5"
      ]
     },
     "execution_count": 1,
     "metadata": {},
     "output_type": "execute_result"
    }
   ],
   "source": [
    "2 + 3"
   ]
  },
  {
   "cell_type": "code",
   "execution_count": 4,
   "id": "6550779c-d1fe-4b98-8528-07ded4afb43f",
   "metadata": {
    "tags": []
   },
   "outputs": [],
   "source": [
    "a = 5\n",
    "b = 6"
   ]
  },
  {
   "cell_type": "code",
   "execution_count": 5,
   "id": "0f85d194-2eb2-4a3a-8961-dbec0a22f4c3",
   "metadata": {
    "tags": []
   },
   "outputs": [
    {
     "data": {
      "text/plain": [
       "5"
      ]
     },
     "execution_count": 5,
     "metadata": {},
     "output_type": "execute_result"
    }
   ],
   "source": [
    "a"
   ]
  },
  {
   "cell_type": "code",
   "execution_count": 6,
   "id": "bd374ace-63e1-4f66-baa4-ef0fb8f2c52d",
   "metadata": {
    "tags": []
   },
   "outputs": [
    {
     "data": {
      "text/plain": [
       "6"
      ]
     },
     "execution_count": 6,
     "metadata": {},
     "output_type": "execute_result"
    }
   ],
   "source": [
    "b"
   ]
  },
  {
   "cell_type": "code",
   "execution_count": 7,
   "id": "d29125b5-fb39-43a8-912b-32ceac1d0896",
   "metadata": {
    "tags": []
   },
   "outputs": [
    {
     "name": "stdout",
     "output_type": "stream",
     "text": [
      "The sum of a and b is 11\n"
     ]
    }
   ],
   "source": [
    "print('The sum of a and b is', a + b)"
   ]
  },
  {
   "cell_type": "code",
   "execution_count": 8,
   "id": "9044d38b-8a60-4954-ba16-46d02f56a18e",
   "metadata": {
    "tags": []
   },
   "outputs": [
    {
     "data": {
      "text/plain": [
       "False"
      ]
     },
     "execution_count": 8,
     "metadata": {},
     "output_type": "execute_result"
    }
   ],
   "source": [
    "a > 5"
   ]
  },
  {
   "cell_type": "code",
   "execution_count": 11,
   "id": "f2491cd6-8839-4535-911d-251a50d4c1d4",
   "metadata": {
    "tags": []
   },
   "outputs": [
    {
     "data": {
      "text/plain": [
       "False"
      ]
     },
     "execution_count": 11,
     "metadata": {},
     "output_type": "execute_result"
    }
   ],
   "source": [
    "(a > 5) and (b < 10)"
   ]
  },
  {
   "cell_type": "code",
   "execution_count": 13,
   "id": "08ed1de5-5b88-4797-81ea-f639eb0430f6",
   "metadata": {
    "tags": []
   },
   "outputs": [
    {
     "data": {
      "text/plain": [
       "True"
      ]
     },
     "execution_count": 13,
     "metadata": {},
     "output_type": "execute_result"
    }
   ],
   "source": [
    "(a > 5) or (b < 10)"
   ]
  },
  {
   "cell_type": "code",
   "execution_count": 14,
   "id": "36dba65b-b69f-412f-8411-c38252527648",
   "metadata": {
    "tags": []
   },
   "outputs": [
    {
     "data": {
      "text/plain": [
       "5"
      ]
     },
     "execution_count": 14,
     "metadata": {},
     "output_type": "execute_result"
    }
   ],
   "source": [
    "a or b"
   ]
  },
  {
   "cell_type": "code",
   "execution_count": 15,
   "id": "0f406ed9-d44e-40bb-ada7-1d38c59bb3e9",
   "metadata": {
    "tags": []
   },
   "outputs": [],
   "source": [
    "greeting = 'Hello'"
   ]
  },
  {
   "cell_type": "code",
   "execution_count": 16,
   "id": "ba61d6b0-f4fc-44d8-8f94-0cae6cbaee1f",
   "metadata": {
    "tags": []
   },
   "outputs": [
    {
     "data": {
      "text/plain": [
       "'Hello'"
      ]
     },
     "execution_count": 16,
     "metadata": {},
     "output_type": "execute_result"
    }
   ],
   "source": [
    "greeting"
   ]
  },
  {
   "cell_type": "code",
   "execution_count": 17,
   "id": "c732f906-b914-4b24-a0d8-61b93cdc91ab",
   "metadata": {
    "tags": []
   },
   "outputs": [],
   "source": [
    "greeting = 'Hello to the \"King\"'"
   ]
  },
  {
   "cell_type": "code",
   "execution_count": 18,
   "id": "06004d95-cb06-4ff1-b844-6975acf4ee91",
   "metadata": {
    "tags": []
   },
   "outputs": [
    {
     "data": {
      "text/plain": [
       "'Hello to the \"King\"'"
      ]
     },
     "execution_count": 18,
     "metadata": {},
     "output_type": "execute_result"
    }
   ],
   "source": [
    "greeting"
   ]
  },
  {
   "cell_type": "code",
   "execution_count": 19,
   "id": "2eebb780-5dda-401d-9e43-a7e36e90f144",
   "metadata": {
    "tags": []
   },
   "outputs": [],
   "source": [
    "greeting = '''\n",
    "This is line 1\n",
    "This is line 2\n",
    "'''"
   ]
  },
  {
   "cell_type": "code",
   "execution_count": 20,
   "id": "f722233d-a8da-4c65-8851-2c339d195ef4",
   "metadata": {
    "tags": []
   },
   "outputs": [
    {
     "data": {
      "text/plain": [
       "'\\nThis is line 1\\nThis is line 2\\n'"
      ]
     },
     "execution_count": 20,
     "metadata": {},
     "output_type": "execute_result"
    }
   ],
   "source": [
    "greeting"
   ]
  },
  {
   "cell_type": "code",
   "execution_count": 21,
   "id": "57b8da2b-adc8-4ba2-ad8a-6752cb4404e6",
   "metadata": {
    "tags": []
   },
   "outputs": [],
   "source": [
    "greeting = 'Hello, this is line 1\\nThis is line 2'"
   ]
  },
  {
   "cell_type": "code",
   "execution_count": 22,
   "id": "1a4a2989-e35a-4831-a01d-9f350e34a45e",
   "metadata": {
    "tags": []
   },
   "outputs": [
    {
     "data": {
      "text/plain": [
       "'Hello, this is line 1\\nThis is line 2'"
      ]
     },
     "execution_count": 22,
     "metadata": {},
     "output_type": "execute_result"
    }
   ],
   "source": [
    "greeting"
   ]
  },
  {
   "cell_type": "code",
   "execution_count": 23,
   "id": "e52a3fac-9914-4121-a583-e612208e35a5",
   "metadata": {
    "tags": []
   },
   "outputs": [
    {
     "name": "stdout",
     "output_type": "stream",
     "text": [
      "Hello, this is line 1\n",
      "This is line 2\n"
     ]
    }
   ],
   "source": [
    "print(greeting)"
   ]
  },
  {
   "cell_type": "code",
   "execution_count": 24,
   "id": "823dbd0c-3560-4934-9e38-2a739b640218",
   "metadata": {
    "tags": []
   },
   "outputs": [
    {
     "name": "stdout",
     "output_type": "stream",
     "text": [
      "The sum of a and b is 11\n"
     ]
    }
   ],
   "source": [
    "print(f'The sum of a and b is {a + b}')"
   ]
  },
  {
   "cell_type": "code",
   "execution_count": 25,
   "id": "037a16d8-0030-4d93-8cc1-088ce03aef07",
   "metadata": {
    "tags": []
   },
   "outputs": [],
   "source": [
    "price = 10.56"
   ]
  },
  {
   "cell_type": "code",
   "execution_count": 26,
   "id": "fc4a2b2a-bbfa-45e1-86d6-d6fe75605baa",
   "metadata": {
    "tags": []
   },
   "outputs": [
    {
     "data": {
      "text/plain": [
       "'The price is 10.56'"
      ]
     },
     "execution_count": 26,
     "metadata": {},
     "output_type": "execute_result"
    }
   ],
   "source": [
    "f'The price is {price}'"
   ]
  },
  {
   "cell_type": "code",
   "execution_count": 28,
   "id": "4c3f3c34-e3d3-4521-bb87-36b617297132",
   "metadata": {
    "tags": []
   },
   "outputs": [
    {
     "data": {
      "text/plain": [
       "'The price is 10.5600'"
      ]
     },
     "execution_count": 28,
     "metadata": {},
     "output_type": "execute_result"
    }
   ],
   "source": [
    "f'The price is {price:.4f}'"
   ]
  },
  {
   "cell_type": "code",
   "execution_count": 29,
   "id": "78e3e29a-8f16-48f8-894c-ada568c82890",
   "metadata": {
    "tags": []
   },
   "outputs": [],
   "source": [
    "person = 'Sam'\n",
    "greeting = 'Hi'\n",
    "say = f'{greeting} {person}'"
   ]
  },
  {
   "cell_type": "code",
   "execution_count": 31,
   "id": "955e5a54-8eda-41d2-84f6-59afa0a05255",
   "metadata": {
    "tags": []
   },
   "outputs": [
    {
     "name": "stdout",
     "output_type": "stream",
     "text": [
      "Hi Sam\n"
     ]
    }
   ],
   "source": [
    "print(say)"
   ]
  },
  {
   "cell_type": "code",
   "execution_count": null,
   "id": "73278c81-960c-4d1e-8441-784c6332ab27",
   "metadata": {},
   "outputs": [],
   "source": []
  }
 ],
 "metadata": {
  "kernelspec": {
   "display_name": "Python 3 (ipykernel)",
   "language": "python",
   "name": "python3"
  },
  "language_info": {
   "codemirror_mode": {
    "name": "ipython",
    "version": 3
   },
   "file_extension": ".py",
   "mimetype": "text/x-python",
   "name": "python",
   "nbconvert_exporter": "python",
   "pygments_lexer": "ipython3",
   "version": "3.11.3"
  }
 },
 "nbformat": 4,
 "nbformat_minor": 5
}
