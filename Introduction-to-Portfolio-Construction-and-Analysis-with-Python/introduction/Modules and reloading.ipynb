{
 "cells": [
  {
   "cell_type": "code",
   "execution_count": 11,
   "id": "2c0d63e2-8965-4140-9923-0f125d09e39c",
   "metadata": {
    "tags": []
   },
   "outputs": [
    {
     "name": "stdout",
     "output_type": "stream",
     "text": [
      "The autoreload extension is already loaded. To reload it, use:\n",
      "  %reload_ext autoreload\n"
     ]
    }
   ],
   "source": [
    "%load_ext autoreload\n",
    "%autoreload 2"
   ]
  },
  {
   "cell_type": "code",
   "execution_count": 12,
   "id": "62023c2b-f732-4c61-bc05-aadde03a1316",
   "metadata": {
    "tags": []
   },
   "outputs": [],
   "source": [
    "import friendly as fy"
   ]
  },
  {
   "cell_type": "code",
   "execution_count": 14,
   "id": "8904e68b-76fc-4cd3-9a2f-9f6eb14e4d98",
   "metadata": {
    "tags": []
   },
   "outputs": [
    {
     "data": {
      "text/plain": [
       "'Hello Christian! Changed, second version'"
      ]
     },
     "execution_count": 14,
     "metadata": {},
     "output_type": "execute_result"
    }
   ],
   "source": [
    "fy.greet(\"Christian\")"
   ]
  },
  {
   "cell_type": "code",
   "execution_count": null,
   "id": "cd556471-da1d-4a1d-81ac-e007425643ec",
   "metadata": {},
   "outputs": [],
   "source": []
  }
 ],
 "metadata": {
  "kernelspec": {
   "display_name": "Python 3 (ipykernel)",
   "language": "python",
   "name": "python3"
  },
  "language_info": {
   "codemirror_mode": {
    "name": "ipython",
    "version": 3
   },
   "file_extension": ".py",
   "mimetype": "text/x-python",
   "name": "python",
   "nbconvert_exporter": "python",
   "pygments_lexer": "ipython3",
   "version": "3.11.3"
  }
 },
 "nbformat": 4,
 "nbformat_minor": 5
}
